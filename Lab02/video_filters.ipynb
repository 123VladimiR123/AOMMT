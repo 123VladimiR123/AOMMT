{
 "cells": [
  {
   "cell_type": "code",
   "execution_count": 13,
   "id": "56f5275d",
   "metadata": {},
   "outputs": [],
   "source": [
    "import cv2;\n",
    "import math as m;\n",
    "import numpy as np; # без векторизации тут слишком медленно, грузит одно ядро на 12%,\n",
    "                    # а обработка кадра занимает секунд по 15-20"
   ]
  },
  {
   "cell_type": "code",
   "execution_count": 56,
   "id": "29032015",
   "metadata": {},
   "outputs": [],
   "source": [
    "def applyFilter(source, coefficient = 2):\n",
    "    vid = cv2.VideoCapture(source);\n",
    "    \n",
    "    width = int(vid.get(cv2.CAP_PROP_FRAME_WIDTH));\n",
    "    height = int(vid.get(cv2.CAP_PROP_FRAME_HEIGHT));\n",
    "    fps = vid.get(cv2.CAP_PROP_FPS);\n",
    "    \n",
    "    dest = cv2.VideoWriter('out_' + source, int(vid.get(cv2.CAP_PROP_FOURCC)), fps, (width, height));\n",
    "    \n",
    "    counter = 1;\n",
    "    while vid.isOpened():\n",
    "        ret, frame = vid.read();\n",
    "        if not ret:break;\n",
    "        \n",
    "        frame = frame.astype(np.float32);\n",
    "        frame = (np.sin(coefficient * counter / fps) + 1) * (frame - 128) + 128;\n",
    "        frame = np.clip(frame, 0, 255);\n",
    "        frame = frame.astype(np.uint8);\n",
    "\n",
    "        dest.write(frame);\n",
    "        counter += 1;\n",
    "\n",
    "    vid.release();\n",
    "    dest.release();\n",
    "    print(\"Обработка завершена!\");\n",
    "    \n",
    "def applyConcat(src1, src2, concatTime = 1):\n",
    "    vid1 = cv2.VideoCapture(src1);\n",
    "    vid2 = cv2.VideoCapture(src2);\n",
    "\n",
    "    width = int(vid1.get(cv2.CAP_PROP_FRAME_WIDTH));\n",
    "    height = int(vid1.get(cv2.CAP_PROP_FRAME_HEIGHT));\n",
    "    fps = vid1.get(cv2.CAP_PROP_FPS);\n",
    "    framesVid1 = int(vid1.get(cv2.CAP_PROP_FRAME_COUNT));\n",
    "\n",
    "    dest = cv2.VideoWriter('concatted_' + src1, int(vid1.get(cv2.CAP_PROP_FOURCC)), fps, (width, height));\n",
    "\n",
    "    concatFrames = int(fps * concatTime);\n",
    "\n",
    "    frameCount = 0\n",
    "    while vid1.isOpened() and vid2.isOpened():\n",
    "        ret1, frame1 = vid1.read();\n",
    "        ret2, frame2 = vid2.read();\n",
    "\n",
    "        \n",
    "        if frameCount >= framesVid1:\n",
    "            if not ret2: break;\n",
    "            dest.write(frame2);\n",
    "        else:\n",
    "            if not ret1 or not ret2: break;\n",
    "            if frameCount > framesVid1 - concatFrames:\n",
    "                progress = (frameCount - (framesVid1 - concatFrames)) / concatFrames;\n",
    "                sectionsToReplace = int(progress * width);\n",
    "                frame1[:, -sectionsToReplace:] = frame2[:, :sectionsToReplace];\n",
    "            dest.write(frame1);\n",
    "\n",
    "        \n",
    "        frameCount += 1;\n",
    "\n",
    "    vid1.release();\n",
    "    vid2.release();\n",
    "    dest.release();\n",
    "    print(\"Склейка завершена!\");\n",
    "    "
   ]
  },
  {
   "cell_type": "code",
   "execution_count": 57,
   "id": "7419bb29",
   "metadata": {},
   "outputs": [
    {
     "name": "stdout",
     "output_type": "stream",
     "text": [
      "Обработка завершена!\n"
     ]
    }
   ],
   "source": [
    "applyFilter('example.mp4');"
   ]
  },
  {
   "cell_type": "code",
   "execution_count": 58,
   "id": "c318d96e",
   "metadata": {},
   "outputs": [
    {
     "name": "stdout",
     "output_type": "stream",
     "text": [
      "Склейка завершена!\n"
     ]
    }
   ],
   "source": [
    "applyConcat('example.mp4', 'example2.mp4');"
   ]
  }
 ],
 "metadata": {
  "kernelspec": {
   "display_name": "Python 3 (ipykernel)",
   "language": "python",
   "name": "python3"
  },
  "language_info": {
   "codemirror_mode": {
    "name": "ipython",
    "version": 3
   },
   "file_extension": ".py",
   "mimetype": "text/x-python",
   "name": "python",
   "nbconvert_exporter": "python",
   "pygments_lexer": "ipython3",
   "version": "3.12.3"
  }
 },
 "nbformat": 4,
 "nbformat_minor": 5
}

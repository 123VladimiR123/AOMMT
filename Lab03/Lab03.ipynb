{
 "cells": [
  {
   "cell_type": "code",
   "execution_count": 4,
   "id": "545d8f95",
   "metadata": {},
   "outputs": [],
   "source": [
    "import numpy as np;\n",
    "import wave;"
   ]
  },
  {
   "cell_type": "code",
   "execution_count": 215,
   "id": "560d80a6",
   "metadata": {},
   "outputs": [],
   "source": [
    "ARRAY_TYPE = {\n",
    "    1: np.int8,\n",
    "    2: np.int16,\n",
    "    4: np.int32,\n",
    "}\n",
    "\n",
    "def applyMagic(srcfile, coefficient = 1.3, batchSize = 128):\n",
    "    with wave.open(srcfile, 'rb') as src:\n",
    "        sampleRate = src.getframerate();\n",
    "        channels = src.getnchannels();\n",
    "        sampleWidth = src.getsampwidth();\n",
    "        totalFrames = src.getnframes();\n",
    "        frames = src.readframes(totalFrames);\n",
    "        \n",
    "    sound = np.frombuffer(frames, dtype=ARRAY_TYPE[sampleWidth]).reshape(-1, channels);\n",
    "    \n",
    "    resultList = [];\n",
    "    for i in range(channels):\n",
    "        resultList.append(changeFreq(sound[:, i], coefficient, batchSize));\n",
    "    \n",
    "    sound = np.column_stack(tuple(resultList));\n",
    "    \n",
    "    with wave.open('output_' + srcfile, 'wb') as dest:\n",
    "        dest.setnchannels(channels);\n",
    "        dest.setsampwidth(sampleWidth);\n",
    "        dest.setframerate(sampleRate);\n",
    "        dest.writeframes(sound.tobytes());\n",
    "        \n",
    "    print('Файл записан!');\n",
    "    \n",
    "def changeFreq(arr, coefficient, batchSize):\n",
    "    overlap = int(batchSize * 0.775); # Имперический минимум артефактов\n",
    "    window = np.hanning(batchSize);  # Говорят, это сгладит дорожку\n",
    "    result = np.zeros_like(arr, dtype=np.float32);\n",
    "\n",
    "    for i in range(0, len(arr) - batchSize + 1, batchSize - overlap):\n",
    "        temp = arr[i:i + batchSize] * window;\n",
    "        temp = np.fft.rfft(temp);\n",
    "        \n",
    "        freqChanged = np.zeros_like(temp, dtype=np.complex64);\n",
    "        for j in range(len(temp)):\n",
    "            if ((coefficient * j) >= len(temp)): break;\n",
    "            freqChanged[round(coefficient * j)] += temp[j];\n",
    "            \n",
    "        result[i:i + batchSize] += np.fft.irfft(freqChanged) * window;\n",
    "    \n",
    "    return result.astype(arr.dtype)"
   ]
  },
  {
   "cell_type": "code",
   "execution_count": 216,
   "id": "9f87684b",
   "metadata": {},
   "outputs": [
    {
     "name": "stdout",
     "output_type": "stream",
     "text": [
      "Файл записан!\n"
     ]
    }
   ],
   "source": [
    "applyMagic('example.wav', 0.5, 2048);"
   ]
  }
 ],
 "metadata": {
  "kernelspec": {
   "display_name": "Python 3 (ipykernel)",
   "language": "python",
   "name": "python3"
  },
  "language_info": {
   "codemirror_mode": {
    "name": "ipython",
    "version": 3
   },
   "file_extension": ".py",
   "mimetype": "text/x-python",
   "name": "python",
   "nbconvert_exporter": "python",
   "pygments_lexer": "ipython3",
   "version": "3.12.3"
  }
 },
 "nbformat": 4,
 "nbformat_minor": 5
}

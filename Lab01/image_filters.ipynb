{
 "cells": [
  {
   "cell_type": "code",
   "execution_count": 28,
   "id": "5c5c64d4",
   "metadata": {},
   "outputs": [],
   "source": [
    "from PIL import Image;\n",
    "\n",
    "import random as rand;\n",
    "import math as m;"
   ]
  },
  {
   "cell_type": "code",
   "execution_count": 94,
   "id": "d1dab87a",
   "metadata": {},
   "outputs": [],
   "source": [
    "def addNoise(sourcePath, absNoiseLimit = 10):\n",
    "    img = Image.open(sourcePath);\n",
    "    width, height = img.size;\n",
    "    \n",
    "    pixs = img.load();\n",
    "    \n",
    "    for x in range(width):\n",
    "        for y in range(height):\n",
    "            r, g, b = pixs[x, y];\n",
    "            r = max(0, min(255, round(r + rand.randint(-absNoiseLimit, absNoiseLimit))));\n",
    "            g = max(0, min(255, round(g + rand.randint(-absNoiseLimit, absNoiseLimit))));\n",
    "            b = max(0, min(255, round(b + rand.randint(-absNoiseLimit, absNoiseLimit))));\n",
    "            \n",
    "            pixs[x, y] = (r, g, b);\n",
    "            \n",
    "    img.show();\n",
    "    img.save('noised_' + sourcePath);\n",
    "    \n",
    "def addDistortion(sourcePath, power = 10, frequency = 5):\n",
    "    img = Image.open(sourcePath)\n",
    "    width, height = img.size\n",
    "    pixs = img.load()\n",
    "    \n",
    "    distImage = Image.new(img.mode, img.size)\n",
    "    pixsDistorted = distImage.load()\n",
    "    \n",
    "    for x in range(width):\n",
    "        offset = round(m.sin(x / frequency) * power);\n",
    "        for y in range(height):\n",
    "            pixsDistorted[x, y] = pixs[(x + offset) % width, y];\n",
    "    \n",
    "    distImage.show()\n",
    "    distImage.save('distortion_' + sourcePath)"
   ]
  },
  {
   "cell_type": "code",
   "execution_count": 100,
   "id": "49013afc",
   "metadata": {},
   "outputs": [
    {
     "name": "stderr",
     "output_type": "stream",
     "text": [
      "\n",
      "(eog:33538): Gtk-WARNING **: 22:16:39.229: Loading IM context type 'xim' failed\n",
      "\n",
      "(eog:33538): Gtk-WARNING **: 22:16:39.266: Loading IM context type 'xim' failed\n"
     ]
    }
   ],
   "source": [
    "addNoise('before.png', 40);"
   ]
  },
  {
   "cell_type": "code",
   "execution_count": 99,
   "id": "098892f2",
   "metadata": {},
   "outputs": [
    {
     "name": "stderr",
     "output_type": "stream",
     "text": [
      "\n",
      "(eog:33467): Gtk-WARNING **: 22:16:16.156: Loading IM context type 'xim' failed\n",
      "\n",
      "(eog:33467): Gtk-WARNING **: 22:16:16.192: Loading IM context type 'xim' failed\n"
     ]
    }
   ],
   "source": [
    "addDistortion('before.png', 6, 7);"
   ]
  }
 ],
 "metadata": {
  "kernelspec": {
   "display_name": "Python 3 (ipykernel)",
   "language": "python",
   "name": "python3"
  },
  "language_info": {
   "codemirror_mode": {
    "name": "ipython",
    "version": 3
   },
   "file_extension": ".py",
   "mimetype": "text/x-python",
   "name": "python",
   "nbconvert_exporter": "python",
   "pygments_lexer": "ipython3",
   "version": "3.12.3"
  }
 },
 "nbformat": 4,
 "nbformat_minor": 5
}
